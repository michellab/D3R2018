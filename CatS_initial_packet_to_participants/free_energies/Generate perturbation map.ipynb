{
 "cells": [
  {
   "cell_type": "code",
   "execution_count": 1,
   "metadata": {},
   "outputs": [],
   "source": [
    "# Import lomap\n",
    "import lomap\n",
    "import sys\n",
    "import networkx as nx"
   ]
  },
  {
   "cell_type": "code",
   "execution_count": 2,
   "metadata": {},
   "outputs": [
    {
     "data": {
      "text/plain": [
       "'/home/ppxasjsm/Projects/git/D3R2018/CatS_initial_packet_to_participants/free_energies'"
      ]
     },
     "execution_count": 2,
     "metadata": {},
     "output_type": "execute_result"
    }
   ],
   "source": [
    "pwd"
   ]
  },
  {
   "cell_type": "code",
   "execution_count": 3,
   "metadata": {},
   "outputs": [
    {
     "name": "stderr",
     "output_type": "stream",
     "text": [
      "------------------------------\n",
      "ID 0\tCatS_122.mol2\n",
      "ID 1\tCatS_127.mol2\n",
      "ID 2\tCatS_130.mol2\n",
      "ID 3\tCatS_131.mol2\n",
      "ID 4\tCatS_132.mol2\n",
      "ID 5\tCatS_139.mol2\n",
      "ID 6\tCatS_141.mol2\n",
      "ID 7\tCatS_142.mol2\n",
      "ID 8\tCatS_144.mol2\n",
      "ID 9\tCatS_153.mol2\n",
      "ID 10\tCatS_155.mol2\n",
      "ID 11\tCatS_157.mol2\n",
      "ID 12\tCatS_160.mol2\n",
      "ID 13\tCatS_162.mol2\n",
      "ID 14\tCatS_165.mol2\n",
      "ID 15\tCatS_167.mol2\n",
      "\t.\t.\n",
      "\t.\t.\n",
      "\t.\t.\n",
      "\n",
      "ID 38\tCatS_9.mol2\n",
      "------------------------------\n",
      "Finish reading input files. 39 structures in total....skipped 0\n",
      "\n"
     ]
    }
   ],
   "source": [
    "db_mol = lomap.DBMolecules('/home/ppxasjsm/Projects/git/D3R2018/CatS_initial_packet_to_participants/free_energies', parallel=12, display=True, output=True, verbose='info')"
   ]
  },
  {
   "cell_type": "code",
   "execution_count": null,
   "metadata": {},
   "outputs": [
    {
     "name": "stderr",
     "output_type": "stream",
     "text": [
      "\n",
      "Matrix scoring in progress....\n",
      "\n",
      "Parallel mode is on\n",
      "MCS molecules: CatS_122.mol2 - CatS_127.mol2\n",
      "MCS molecules: CatS_127.mol2 - CatS_191.mol2\n",
      "MCS molecules: CatS_131.mol2 - CatS_174.mol2\n",
      "MCS molecules: CatS_139.mol2 - CatS_160.mol2\n",
      "MCS molecules: CatS_142.mol2 - CatS_157.mol2\n",
      "MCS molecules: CatS_153.mol2 - CatS_165.mol2\n",
      "MCS molecules: CatS_181.mol2 - CatS_84.mol2\n",
      "MCS molecules: CatS_195.mol2 - CatS_4.mol2\n",
      "MCS molecules: CatS_157.mol2 - CatS_180.mol2\n",
      "MCS molecules: CatS_162.mol2 - CatS_30.mol2\n",
      "MCS molecules: CatS_172.mol2 - CatS_186.mol2\n",
      "MCS molecules: CatS_177.mol2 - CatS_195.mol2\n",
      "MCS molecules: CatS_172.mol2 - CatS_186.mol2 the strict scr is 0.9048374180359595\n",
      "MCS molecules: CatS_172.mol2 - CatS_191.mol2\n",
      "MCS molecules: CatS_127.mol2 - CatS_191.mol2 the strict scr is 0.36787944117144233\n",
      "MCS molecules: CatS_127.mol2 - CatS_195.mol2\n",
      "MCS molecules: CatS_122.mol2 - CatS_127.mol2 the strict scr is 0.301194211912202\n",
      "MCS molecules: CatS_122.mol2 - CatS_130.mol2\n",
      "MCS molecules: CatS_127.mol2 - CatS_195.mol2 the strict scr is 0.49658530379140947\n",
      "MCS molecules: CatS_127.mol2 - CatS_252.mol2\n",
      "MCS molecules: CatS_122.mol2 - CatS_130.mol2 the strict scr is 0.2725317930340126\n",
      "MCS molecules: CatS_122.mol2 - CatS_131.mol2\n",
      "MCS molecules: CatS_162.mol2 - CatS_30.mol2 the strict scr is 0.2465969639416064\n",
      "MCS molecules: CatS_162.mol2 - CatS_4.mol2\n",
      "MCS molecules: CatS_181.mol2 - CatS_84.mol2 the strict scr is 0.44932896411722156\n",
      "MCS molecules: CatS_181.mol2 - CatS_9.mol2\n",
      "MCS molecules: CatS_142.mol2 - CatS_157.mol2 the strict scr is 0.49658530379140947\n",
      "MCS molecules: CatS_142.mol2 - CatS_160.mol2\n",
      "MCS molecules: CatS_139.mol2 - CatS_160.mol2 the strict scr is 0.5488116360940264\n",
      "MCS molecules: CatS_139.mol2 - CatS_162.mol2\n",
      "MCS molecules: CatS_127.mol2 - CatS_252.mol2 the strict scr is 0.6065306597126334\n",
      "MCS molecules: CatS_127.mol2 - CatS_253.mol2\n",
      "MCS molecules: CatS_127.mol2 - CatS_253.mol2 the strict scr is 0.5488116360940264\n",
      "MCS molecules: CatS_127.mol2 - CatS_255.mol2\n",
      "MCS molecules: CatS_127.mol2 - CatS_255.mol2 the strict scr is 0.49658530379140947\n",
      "MCS molecules: CatS_127.mol2 - CatS_29.mol2\n",
      "MCS molecules: CatS_142.mol2 - CatS_160.mol2 the strict scr is 0.4065696597405991\n",
      "MCS molecules: CatS_142.mol2 - CatS_162.mol2\n",
      "MCS molecules: CatS_142.mol2 - CatS_162.mol2 the strict scr is 0.4493289641172215\n",
      "MCS molecules: CatS_142.mol2 - CatS_165.mol2\n",
      "MCS molecules: CatS_142.mol2 - CatS_165.mol2 the strict scr is 0.6065306597126334\n",
      "MCS molecules: CatS_142.mol2 - CatS_167.mol2\n",
      "MCS molecules: CatS_142.mol2 - CatS_167.mol2 the strict scr is 0.7408182206817179\n",
      "MCS molecules: CatS_142.mol2 - CatS_172.mol2\n",
      "MCS molecules: CatS_142.mol2 - CatS_172.mol2 the strict scr is 0.6065306597126334\n",
      "MCS molecules: CatS_142.mol2 - CatS_174.mol2\n",
      "MCS molecules: CatS_142.mol2 - CatS_174.mol2 the strict scr is 0.5488116360940264\n",
      "MCS molecules: CatS_142.mol2 - CatS_176.mol2\n",
      "MCS molecules: CatS_142.mol2 - CatS_176.mol2 the strict scr is 0.49658530379140947\n",
      "MCS molecules: CatS_142.mol2 - CatS_177.mol2\n",
      "MCS molecules: CatS_142.mol2 - CatS_177.mol2 the strict scr is 0.6065306597126334\n",
      "MCS molecules: CatS_142.mol2 - CatS_178.mol2\n",
      "MCS molecules: CatS_142.mol2 - CatS_178.mol2 the strict scr is 0.44932896411722156\n",
      "MCS molecules: CatS_142.mol2 - CatS_180.mol2\n",
      "MCS molecules: CatS_142.mol2 - CatS_180.mol2 the strict scr is 0.49658530379140947\n",
      "MCS molecules: CatS_142.mol2 - CatS_181.mol2\n",
      "MCS molecules: CatS_142.mol2 - CatS_181.mol2 the strict scr is 0.4065696597405991\n",
      "MCS molecules: CatS_142.mol2 - CatS_184.mol2\n",
      "MCS molecules: CatS_142.mol2 - CatS_184.mol2 the strict scr is 0.6703200460356393\n",
      "MCS molecules: CatS_142.mol2 - CatS_185.mol2\n",
      "MCS molecules: CatS_142.mol2 - CatS_185.mol2 the strict scr is 0.5488116360940264\n",
      "MCS molecules: CatS_142.mol2 - CatS_186.mol2\n",
      "MCS molecules: CatS_142.mol2 - CatS_186.mol2 the strict scr is 0.6703200460356393\n",
      "MCS molecules: CatS_142.mol2 - CatS_191.mol2\n",
      "MCS molecules: CatS_142.mol2 - CatS_191.mol2 the strict scr is 0.44932896411722156\n",
      "MCS molecules: CatS_142.mol2 - CatS_195.mol2\n",
      "MCS molecules: CatS_142.mol2 - CatS_195.mol2 the strict scr is 0.6065306597126334\n",
      "MCS molecules: CatS_142.mol2 - CatS_252.mol2\n",
      "MCS molecules: CatS_142.mol2 - CatS_252.mol2 the strict scr is 0.7408182206817179\n",
      "MCS molecules: CatS_142.mol2 - CatS_253.mol2\n",
      "MCS molecules: CatS_142.mol2 - CatS_253.mol2 the strict scr is 0.6703200460356393\n",
      "MCS molecules: CatS_142.mol2 - CatS_255.mol2\n",
      "MCS molecules: CatS_142.mol2 - CatS_255.mol2 the strict scr is 0.6065306597126334\n",
      "MCS molecules: CatS_142.mol2 - CatS_29.mol2\n",
      "MCS molecules: CatS_172.mol2 - CatS_191.mol2 the strict scr is 0.49658530379140947\n",
      "MCS molecules: CatS_172.mol2 - CatS_195.mol2\n",
      "MCS molecules: CatS_127.mol2 - CatS_29.mol2 the strict scr is 0.301194211912202\n",
      "MCS molecules: CatS_127.mol2 - CatS_30.mol2\n",
      "MCS molecules: CatS_177.mol2 - CatS_195.mol2 the strict scr is 0.6703200460356393\n",
      "MCS molecules: CatS_177.mol2 - CatS_252.mol2\n",
      "MCS molecules: CatS_177.mol2 - CatS_252.mol2 the strict scr is 0.8187307530779818\n",
      "MCS molecules: CatS_177.mol2 - CatS_253.mol2\n",
      "MCS molecules: CatS_139.mol2 - CatS_162.mol2 the strict scr is 0.40656965974059905\n",
      "MCS molecules: CatS_139.mol2 - CatS_165.mol2\n",
      "Timeout reached to find the MCS between the molecules\n",
      "MCS molecules: CatS_153.mol2 - CatS_165.mol2 the strict scr is 0.301194211912202\n",
      "MCS molecules: CatS_153.mol2 - CatS_167.mol2\n",
      "Timeout reached to find the MCS between the molecules\n",
      "Timeout reached to find the MCS between the molecules\n",
      "MCS molecules: CatS_157.mol2 - CatS_180.mol2 the strict scr is 0.44932896411722156\n",
      "MCS molecules: CatS_157.mol2 - CatS_181.mol2\n",
      "MCS molecules: CatS_195.mol2 - CatS_4.mol2 the strict scr is 0.2725317930340126\n",
      "MCS molecules: CatS_195.mol2 - CatS_52.mol2\n",
      "Timeout reached to find the MCS between the molecules\n",
      "MCS molecules: CatS_131.mol2 - CatS_174.mol2 the strict scr is 0.33287108369807955\n",
      "MCS molecules: CatS_131.mol2 - CatS_176.mol2\n",
      "Timeout reached to find the MCS between the molecules\n",
      "MCS molecules: CatS_122.mol2 - CatS_131.mol2 the strict scr is 0.22313016014842982\n",
      "MCS molecules: CatS_122.mol2 - CatS_132.mol2\n",
      "MCS molecules: CatS_122.mol2 - CatS_132.mol2 the strict scr is 0.24659696394160643\n",
      "MCS molecules: CatS_122.mol2 - CatS_139.mol2\n",
      "MCS molecules: CatS_122.mol2 - CatS_139.mol2 the strict scr is 0.40656965974059905\n",
      "MCS molecules: CatS_122.mol2 - CatS_141.mol2\n",
      "MCS molecules: CatS_142.mol2 - CatS_29.mol2 the strict scr is 0.36787944117144233\n",
      "MCS molecules: CatS_142.mol2 - CatS_30.mol2\n",
      "Timeout reached to find the MCS between the molecules\n",
      "MCS molecules: CatS_162.mol2 - CatS_4.mol2 the strict scr is 0.1652988882215865\n",
      "MCS molecules: CatS_162.mol2 - CatS_52.mol2\n",
      "Timeout reached to find the MCS between the molecules\n",
      "MCS molecules: CatS_181.mol2 - CatS_9.mol2 the strict scr is 0.18268352405273464\n",
      "MCS molecules: CatS_184.mol2 - CatS_185.mol2\n",
      "MCS molecules: CatS_127.mol2 - CatS_30.mol2 the strict scr is 0.36787944117144233\n",
      "MCS molecules: CatS_127.mol2 - CatS_4.mol2\n",
      "MCS molecules: CatS_127.mol2 - CatS_4.mol2 the strict scr is 0.24659696394160643\n",
      "MCS molecules: CatS_127.mol2 - CatS_52.mol2\n",
      "MCS molecules: CatS_127.mol2 - CatS_52.mol2 the strict scr is 0.1826835240527346\n",
      "MCS molecules: CatS_127.mol2 - CatS_76.mol2\n",
      "MCS molecules: CatS_127.mol2 - CatS_76.mol2 the strict scr is 0.5488116360940264\n",
      "MCS molecules: CatS_127.mol2 - CatS_79.mol2\n",
      "MCS molecules: CatS_127.mol2 - CatS_79.mol2 the strict scr is 0.6065306597126334\n",
      "MCS molecules: CatS_127.mol2 - CatS_84.mol2\n",
      "MCS molecules: CatS_142.mol2 - CatS_30.mol2 the strict scr is 0.44932896411722156\n",
      "MCS molecules: CatS_142.mol2 - CatS_4.mol2\n",
      "MCS molecules: CatS_142.mol2 - CatS_4.mol2 the strict scr is 0.301194211912202\n",
      "MCS molecules: CatS_142.mol2 - CatS_52.mol2\n",
      "MCS molecules: CatS_142.mol2 - CatS_52.mol2 the strict scr is 0.22313016014842982\n",
      "MCS molecules: CatS_142.mol2 - CatS_76.mol2\n",
      "MCS molecules: CatS_142.mol2 - CatS_76.mol2 the strict scr is 0.6703200460356393\n",
      "MCS molecules: CatS_142.mol2 - CatS_79.mol2\n",
      "MCS molecules: CatS_142.mol2 - CatS_79.mol2 the strict scr is 0.7408182206817179\n",
      "MCS molecules: CatS_142.mol2 - CatS_84.mol2\n",
      "MCS molecules: CatS_142.mol2 - CatS_84.mol2 the strict scr is 0.7408182206817179\n",
      "MCS molecules: CatS_142.mol2 - CatS_9.mol2\n",
      "MCS molecules: CatS_139.mol2 - CatS_165.mol2 the strict scr is 0.44932896411722156\n"
     ]
    },
    {
     "name": "stderr",
     "output_type": "stream",
     "text": [
      "MCS molecules: CatS_139.mol2 - CatS_167.mol2\n",
      "MCS molecules: CatS_172.mol2 - CatS_195.mol2 the strict scr is 0.6703200460356393\n",
      "MCS molecules: CatS_172.mol2 - CatS_252.mol2\n",
      "MCS molecules: CatS_172.mol2 - CatS_252.mol2 the strict scr is 0.8187307530779818\n",
      "MCS molecules: CatS_172.mol2 - CatS_253.mol2\n",
      "MCS molecules: CatS_127.mol2 - CatS_84.mol2 the strict scr is 0.6065306597126334\n",
      "MCS molecules: CatS_127.mol2 - CatS_9.mol2\n",
      "MCS molecules: CatS_184.mol2 - CatS_185.mol2 the strict scr is 0.6703200460356393\n",
      "MCS molecules: CatS_184.mol2 - CatS_186.mol2\n",
      "MCS molecules: CatS_184.mol2 - CatS_186.mol2 the strict scr is 1.0\n",
      "MCS molecules: CatS_184.mol2 - CatS_191.mol2\n",
      "MCS molecules: CatS_139.mol2 - CatS_167.mol2 the strict scr is 0.8187307530779818\n",
      "MCS molecules: CatS_139.mol2 - CatS_172.mol2\n",
      "MCS molecules: CatS_139.mol2 - CatS_172.mol2 the strict scr is 0.8187307530779818\n",
      "MCS molecules: CatS_139.mol2 - CatS_174.mol2\n",
      "MCS molecules: CatS_139.mol2 - CatS_174.mol2 the strict scr is 0.7408182206817179\n",
      "MCS molecules: CatS_139.mol2 - CatS_176.mol2\n",
      "MCS molecules: CatS_139.mol2 - CatS_176.mol2 the strict scr is 0.6703200460356393\n",
      "MCS molecules: CatS_139.mol2 - CatS_177.mol2\n",
      "MCS molecules: CatS_139.mol2 - CatS_177.mol2 the strict scr is 0.8187307530779818\n",
      "MCS molecules: CatS_139.mol2 - CatS_178.mol2\n",
      "MCS molecules: CatS_139.mol2 - CatS_178.mol2 the strict scr is 0.6065306597126334\n",
      "MCS molecules: CatS_139.mol2 - CatS_180.mol2\n",
      "MCS molecules: CatS_139.mol2 - CatS_180.mol2 the strict scr is 0.6703200460356393\n",
      "MCS molecules: CatS_139.mol2 - CatS_181.mol2\n",
      "MCS molecules: CatS_139.mol2 - CatS_181.mol2 the strict scr is 0.4493289641172215\n",
      "MCS molecules: CatS_139.mol2 - CatS_184.mol2\n",
      "MCS molecules: CatS_139.mol2 - CatS_184.mol2 the strict scr is 0.9048374180359595\n",
      "MCS molecules: CatS_139.mol2 - CatS_185.mol2\n",
      "MCS molecules: CatS_139.mol2 - CatS_185.mol2 the strict scr is 0.7408182206817179\n",
      "MCS molecules: CatS_139.mol2 - CatS_186.mol2\n",
      "MCS molecules: CatS_139.mol2 - CatS_186.mol2 the strict scr is 0.9048374180359595\n",
      "MCS molecules: CatS_139.mol2 - CatS_191.mol2\n",
      "MCS molecules: CatS_139.mol2 - CatS_191.mol2 the strict scr is 0.6065306597126334\n",
      "MCS molecules: CatS_139.mol2 - CatS_195.mol2\n",
      "MCS molecules: CatS_139.mol2 - CatS_195.mol2 the strict scr is 0.8187307530779818\n",
      "MCS molecules: CatS_139.mol2 - CatS_252.mol2\n",
      "MCS molecules: CatS_142.mol2 - CatS_9.mol2 the strict scr is 0.301194211912202\n",
      "MCS molecules: CatS_144.mol2 - CatS_153.mol2\n",
      "Timeout reached to find the MCS between the molecules\n",
      "MCS molecules: CatS_177.mol2 - CatS_253.mol2 the strict scr is 0.6065306597126334\n",
      "MCS molecules: CatS_177.mol2 - CatS_255.mol2\n",
      "MCS molecules: CatS_139.mol2 - CatS_252.mol2 the strict scr is 0.8187307530779818\n",
      "MCS molecules: CatS_139.mol2 - CatS_255.mol2\n"
     ]
    }
   ],
   "source": [
    "strict, loose = db_mol.build_matrices()"
   ]
  },
  {
   "cell_type": "code",
   "execution_count": null,
   "metadata": {},
   "outputs": [],
   "source": [
    "strict_numpy = strict.to_numpy_2D_array()\n",
    "loose_numpy = loose.to_numpy_2D_array()"
   ]
  },
  {
   "cell_type": "code",
   "execution_count": null,
   "metadata": {},
   "outputs": [],
   "source": [
    "nx_graph = db_mol.build_graph() "
   ]
  },
  {
   "cell_type": "code",
   "execution_count": 22,
   "metadata": {},
   "outputs": [],
   "source": [
    "mapping = db_mol.dic_mapping"
   ]
  },
  {
   "cell_type": "code",
   "execution_count": null,
   "metadata": {},
   "outputs": [],
   "source": []
  },
  {
   "cell_type": "code",
   "execution_count": 23,
   "metadata": {},
   "outputs": [],
   "source": [
    "graph = db_mol.Graph"
   ]
  },
  {
   "cell_type": "code",
   "execution_count": 21,
   "metadata": {},
   "outputs": [],
   "source": [
    "#Let's try and draw the graph with the molecules"
   ]
  },
  {
   "cell_type": "code",
   "execution_count": 58,
   "metadata": {},
   "outputs": [],
   "source": [
    "from rdkit import Chem\n",
    "import glob"
   ]
  },
  {
   "cell_type": "code",
   "execution_count": 59,
   "metadata": {},
   "outputs": [],
   "source": [
    "mol_list = glob.glob('*.smi')"
   ]
  },
  {
   "cell_type": "code",
   "execution_count": 66,
   "metadata": {},
   "outputs": [],
   "source": [
    "m = Chem.MolFromMolFile('CatS_122.smi', strictParsing=False)"
   ]
  },
  {
   "cell_type": "code",
   "execution_count": 67,
   "metadata": {},
   "outputs": [
    {
     "data": {
      "text/plain": [
       "NoneType"
      ]
     },
     "execution_count": 67,
     "metadata": {},
     "output_type": "execute_result"
    }
   ],
   "source": [
    "type(m)"
   ]
  },
  {
   "cell_type": "code",
   "execution_count": 47,
   "metadata": {},
   "outputs": [
    {
     "ename": "ArgumentError",
     "evalue": "Python argument types in\n    rdkit.Chem.rdDepictor.Compute2DCoords(NoneType)\ndid not match C++ signature:\n    Compute2DCoords(RDKit::ROMol {lvalue} mol, bool canonOrient=True, bool clearConfs=True, boost::python::dict {lvalue} coordMap={}, unsigned int nFlipsPerSample=0, unsigned int nSample=0, int sampleSeed=0, bool permuteDeg4Nodes=False, double bondLength=-1.0)",
     "output_type": "error",
     "traceback": [
      "\u001b[0;31m---------------------------------------------------------------------------\u001b[0m",
      "\u001b[0;31mArgumentError\u001b[0m                             Traceback (most recent call last)",
      "\u001b[0;32m<ipython-input-47-0cac17a27c1e>\u001b[0m in \u001b[0;36m<module>\u001b[0;34m()\u001b[0m\n\u001b[0;32m----> 1\u001b[0;31m \u001b[0mtmp\u001b[0m\u001b[0;34m=\u001b[0m\u001b[0mChem\u001b[0m\u001b[0;34m.\u001b[0m\u001b[0mAllChem\u001b[0m\u001b[0;34m.\u001b[0m\u001b[0mCompute2DCoords\u001b[0m\u001b[0;34m(\u001b[0m\u001b[0mm\u001b[0m\u001b[0;34m)\u001b[0m\u001b[0;34m\u001b[0m\u001b[0m\n\u001b[0m",
      "\u001b[0;31mArgumentError\u001b[0m: Python argument types in\n    rdkit.Chem.rdDepictor.Compute2DCoords(NoneType)\ndid not match C++ signature:\n    Compute2DCoords(RDKit::ROMol {lvalue} mol, bool canonOrient=True, bool clearConfs=True, boost::python::dict {lvalue} coordMap={}, unsigned int nFlipsPerSample=0, unsigned int nSample=0, int sampleSeed=0, bool permuteDeg4Nodes=False, double bondLength=-1.0)"
     ]
    }
   ],
   "source": [
    "tmp=Chem.AllChem.Compute2DCoords(m)"
   ]
  },
  {
   "cell_type": "code",
   "execution_count": 112,
   "metadata": {},
   "outputs": [
    {
     "name": "stdout",
     "output_type": "stream",
     "text": [
      "CatS_122.png\n",
      "CatS_127.png\n",
      "CatS_130.png\n",
      "CatS_131.png\n",
      "CatS_132.png\n",
      "CatS_139.png\n",
      "CatS_141.png\n",
      "CatS_142.png\n",
      "CatS_144.png\n",
      "CatS_153.png\n",
      "CatS_155.png\n",
      "CatS_157.png\n",
      "CatS_160.png\n",
      "CatS_162.png\n",
      "CatS_165.png\n",
      "CatS_167.png\n",
      "CatS_172.png\n",
      "CatS_174.png\n",
      "CatS_176.png\n",
      "CatS_177.png\n",
      "CatS_178.png\n",
      "CatS_180.png\n",
      "CatS_181.png\n",
      "CatS_184.png\n",
      "CatS_185.png\n",
      "CatS_186.png\n",
      "CatS_191.png\n",
      "CatS_195.png\n",
      "CatS_252.png\n",
      "CatS_253.png\n",
      "CatS_255.png\n",
      "CatS_29.png\n",
      "CatS_30.png\n",
      "CatS_4.png\n",
      "CatS_52.png\n",
      "CatS_76.png\n",
      "CatS_79.png\n",
      "CatS_84.png\n",
      "CatS_9.png\n"
     ]
    }
   ],
   "source": [
    "for m in db_mol._DBMolecules__list:\n",
    "    fname = (m.getName().split('.')[0])+'.png'\n",
    "    print(fname)\n",
    "    rd_mol = m.getMolecule()\n",
    "    rdkit.Chem.Draw.MolToImageFile(rd_mol, fname, size=(400,400), wedgeBonds=True,legend=m.getName().split('.')[0],ignoreHs=True)"
   ]
  },
  {
   "cell_type": "code",
   "execution_count": 88,
   "metadata": {},
   "outputs": [],
   "source": [
    "m =  db_mol._DBMolecules__list[0]"
   ]
  },
  {
   "cell_type": "code",
   "execution_count": 89,
   "metadata": {},
   "outputs": [],
   "source": [
    "rd_mol = m.getMolecule()"
   ]
  },
  {
   "cell_type": "code",
   "execution_count": 99,
   "metadata": {},
   "outputs": [],
   "source": [
    "rd_mol = Chem.AllChem.Compute2DCoords(rd_mol)"
   ]
  },
  {
   "cell_type": "code",
   "execution_count": 102,
   "metadata": {},
   "outputs": [
    {
     "data": {
      "text/plain": [
       "0"
      ]
     },
     "execution_count": 102,
     "metadata": {},
     "output_type": "execute_result"
    }
   ],
   "source": [
    "rd_mol"
   ]
  },
  {
   "cell_type": "code",
   "execution_count": 98,
   "metadata": {},
   "outputs": [
    {
     "ename": "AttributeError",
     "evalue": "'Mol' object has no attribute 'size'",
     "output_type": "error",
     "traceback": [
      "\u001b[0;31m---------------------------------------------------------------------------\u001b[0m",
      "\u001b[0;31mAttributeError\u001b[0m                            Traceback (most recent call last)",
      "\u001b[0;32m<ipython-input-98-e4f53f3f5cfe>\u001b[0m in \u001b[0;36m<module>\u001b[0;34m()\u001b[0m\n\u001b[0;32m----> 1\u001b[0;31m \u001b[0mChem\u001b[0m\u001b[0;34m.\u001b[0m\u001b[0mDraw\u001b[0m\u001b[0;34m.\u001b[0m\u001b[0mMolDrawing\u001b[0m\u001b[0;34m(\u001b[0m\u001b[0mrd_mol\u001b[0m\u001b[0;34m)\u001b[0m\u001b[0;34m\u001b[0m\u001b[0m\n\u001b[0m",
      "\u001b[0;32m~/miniconda3/envs/lomap/lib/python3.5/site-packages/rdkit/Chem/Draw/MolDrawing.py\u001b[0m in \u001b[0;36m__init__\u001b[0;34m(self, canvas, drawingOptions)\u001b[0m\n\u001b[1;32m     80\u001b[0m     \u001b[0mself\u001b[0m\u001b[0;34m.\u001b[0m\u001b[0mcanvasSize\u001b[0m \u001b[0;34m=\u001b[0m \u001b[0;32mNone\u001b[0m\u001b[0;34m\u001b[0m\u001b[0m\n\u001b[1;32m     81\u001b[0m     \u001b[0;32mif\u001b[0m \u001b[0mcanvas\u001b[0m\u001b[0;34m:\u001b[0m\u001b[0;34m\u001b[0m\u001b[0m\n\u001b[0;32m---> 82\u001b[0;31m       \u001b[0mself\u001b[0m\u001b[0;34m.\u001b[0m\u001b[0mcanvasSize\u001b[0m \u001b[0;34m=\u001b[0m \u001b[0mcanvas\u001b[0m\u001b[0;34m.\u001b[0m\u001b[0msize\u001b[0m\u001b[0;34m\u001b[0m\u001b[0m\n\u001b[0m\u001b[1;32m     83\u001b[0m     \u001b[0mself\u001b[0m\u001b[0;34m.\u001b[0m\u001b[0mdrawingOptions\u001b[0m \u001b[0;34m=\u001b[0m \u001b[0mdrawingOptions\u001b[0m \u001b[0;32mor\u001b[0m \u001b[0mDrawingOptions\u001b[0m\u001b[0;34m(\u001b[0m\u001b[0;34m)\u001b[0m\u001b[0;34m\u001b[0m\u001b[0m\n\u001b[1;32m     84\u001b[0m \u001b[0;34m\u001b[0m\u001b[0m\n",
      "\u001b[0;31mAttributeError\u001b[0m: 'Mol' object has no attribute 'size'"
     ]
    }
   ],
   "source": [
    "Chem.Draw.MolDrawing(rd_mol)"
   ]
  },
  {
   "cell_type": "code",
   "execution_count": 114,
   "metadata": {},
   "outputs": [],
   "source": [
    "nx.write_gpickle(g, 'test.gpickle')"
   ]
  },
  {
   "cell_type": "code",
   "execution_count": null,
   "metadata": {},
   "outputs": [],
   "source": []
  }
 ],
 "metadata": {
  "kernelspec": {
   "display_name": "Python 3",
   "language": "python",
   "name": "python3"
  },
  "language_info": {
   "codemirror_mode": {
    "name": "ipython",
    "version": 3
   },
   "file_extension": ".py",
   "mimetype": "text/x-python",
   "name": "python",
   "nbconvert_exporter": "python",
   "pygments_lexer": "ipython3",
   "version": "3.5.4"
  }
 },
 "nbformat": 4,
 "nbformat_minor": 2
}
