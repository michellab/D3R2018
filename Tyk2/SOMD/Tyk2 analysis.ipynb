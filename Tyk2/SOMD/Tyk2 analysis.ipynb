{
 "cells": [
  {
   "cell_type": "markdown",
   "metadata": {},
   "source": [
    "# Default Perturbation network analysis notebook\n",
    "This notebook was automatically generated using freenrgworkflows   \n",
    "Author: Antonia Mey   \n",
    "Email: antonia.mey@ed.ac.uk"
   ]
  },
  {
   "cell_type": "code",
   "execution_count": 26,
   "metadata": {},
   "outputs": [
    {
     "name": "stdout",
     "output_type": "stream",
     "text": [
      "Populating the interactive namespace from numpy and matplotlib\n"
     ]
    },
    {
     "name": "stderr",
     "output_type": "stream",
     "text": [
      "/home/ppxasjsm/miniconda3/envs/fworkflow/lib/python3.7/site-packages/IPython/core/magics/pylab.py:160: UserWarning: pylab import has clobbered these variables: ['f']\n",
      "`%matplotlib` prevents importing * from pylab and numpy\n",
      "  \"\\n`%matplotlib` prevents importing * from pylab and numpy\"\n"
     ]
    },
    {
     "data": {
      "text/plain": [
       "'1.0.1-py3.7.egg'"
      ]
     },
     "execution_count": 26,
     "metadata": {},
     "output_type": "execute_result"
    }
   ],
   "source": [
    "%pylab inline\n",
    "import networkanalysis.networkanalysis as n_graph\n",
    "import networkanalysis.plotting as n_plot\n",
    "import networkanalysis.experiments as n_ex\n",
    "import networkanalysis.stats as n_stats\n",
    "import networkanalysis\n",
    "networkanalysis.__version__"
   ]
  },
  {
   "cell_type": "code",
   "execution_count": 27,
   "metadata": {},
   "outputs": [
    {
     "data": {
      "text/plain": [
       "<bound method PerturbationGraph.add_data_to_graph of <networkanalysis.networkanalysis.PerturbationGraph object at 0x7fe903e4d5f8>>"
      ]
     },
     "execution_count": 27,
     "metadata": {},
     "output_type": "execute_result"
    }
   ],
   "source": [
    "pG.add_data_to_graph"
   ]
  },
  {
   "cell_type": "code",
   "execution_count": 28,
   "metadata": {},
   "outputs": [
    {
     "name": "stdout",
     "output_type": "stream",
     "text": [
      "Free energies computed from the perturbation network are: \n",
      "---------------------------------------- \n",
      "#FREE ENERGIES ARE:\n",
      "Tyk_1      -0.000 ± 0.000\n",
      "Tyk_10     3.633 ± 0.311\n",
      "Tyk_11     -0.855 ± 0.261\n",
      "Tyk_12     0.547 ± 0.364\n",
      "Tyk_13     0.095 ± 0.223\n",
      "Tyk_14     -0.963 ± 0.285\n",
      "Tyk_15     -0.070 ± 0.065\n",
      "Tyk_16     -1.264 ± 0.178\n",
      "Tyk_17     1.178 ± 0.103\n",
      "Tyk_2      -1.066 ± 0.289\n",
      "Tyk_3      0.320 ± 0.153\n",
      "Tyk_4      -0.911 ± 0.221\n",
      "Tyk_5      -0.611 ± 0.155\n",
      "Tyk_6      1.483 ± 0.258\n",
      "Tyk_7      -0.094 ± 0.280\n",
      "Tyk_8      0.544 ± 0.305\n",
      "Tyk_9      -0.338 ± 0.043\n"
     ]
    }
   ],
   "source": [
    "# Creating and populating the perturbation network\n",
    "pG = n_graph.PerturbationGraph()\n",
    "# Change the path below to the csv file containing the individual perturbations\n",
    "pG.populate_pert_graph('run1.csv')\n",
    "pG.add_data_to_graph('run2.csv')\n",
    "# Uncomment below if you have run multiple runs for some perturbations and add file path\n",
    "#pG.add_data_to_graph('/path/to/additional/runs.csv')\n",
    "target_compound = pG.compoundList[0] #change this to your target comound\n",
    "pG.compute_weighted_avg_paths(target_compound)\n",
    "pG.format_free_energies(merge_BM=True,intermed_ID='INT')\n",
    "computed_relative_DDGs = pG.freeEnergyInKcal\n",
    "print (\"Free energies computed from the perturbation network are: \")\n",
    "print (\"---------------------------------------- \")\n",
    "pG.write_free_energies(computed_relative_DDGs)"
   ]
  },
  {
   "cell_type": "markdown",
   "metadata": {},
   "source": [
    "\n",
    "### Experimental data\n",
    "It is useful to compare computed free energies to experimental data.\n",
    "The cells below will read in your experimental data. Just replace the path to you IC50 data in the\n",
    "`IC_50_file` variable "
   ]
  },
  {
   "cell_type": "code",
   "execution_count": 29,
   "metadata": {},
   "outputs": [],
   "source": [
    "f = open('../tyk2_ds_dGexp_abs.csv')\n",
    "lines = f.readlines()\n",
    "f.close()"
   ]
  },
  {
   "cell_type": "code",
   "execution_count": 34,
   "metadata": {},
   "outputs": [
    {
     "name": "stdout",
     "output_type": "stream",
     "text": [
      "['Tyk_1', '-9.54']\n",
      "['Tyk_2', '-10.94']\n",
      "['Tyk_3', '-8.98']\n",
      "['Tyk_4', '-11.31']\n",
      "['Tyk_5', '-9.21']\n",
      "['Tyk_6', '-8.26']\n",
      "['Tyk_7', '-10.98']\n",
      "['Tyk_8', '-7.75']\n",
      "['Tyk_9', '-9.56']\n",
      "['Tyk_10', '-7.42']\n",
      "['Tyk_11', '-11.28']\n",
      "['Tyk_12', '-9']\n",
      "['Tyk_13', '-9.7']\n",
      "['Tyk_14', '-11.7']\n",
      "['Tyk_15', '-9.78']\n",
      "['Tyk_16', '-10.53']\n"
     ]
    }
   ],
   "source": [
    "exp_list = []\n",
    "for l in lines:\n",
    "    a = l.strip().split(',')\n",
    "    if a[0].startswith(\"#\"):\n",
    "        continue\n",
    "    if a[0] == 'tyk_1':\n",
    "        reference = float(a[1])\n",
    "    b = {a[0]:float(a[1])-reference, 'error':0.4}\n",
    "    exp_list.append(b)\n",
    "    print(a)"
   ]
  },
  {
   "cell_type": "code",
   "execution_count": null,
   "metadata": {},
   "outputs": [],
   "source": []
  },
  {
   "cell_type": "code",
   "execution_count": 35,
   "metadata": {},
   "outputs": [
    {
     "name": "stdout",
     "output_type": "stream",
     "text": [
      "#FREE ENERGIES ARE:\n",
      "Tyk_1      0.000 ± 0.400\n",
      "Tyk_2      -1.400 ± 0.400\n",
      "Tyk_3      0.560 ± 0.400\n",
      "Tyk_4      -1.770 ± 0.400\n",
      "Tyk_5      0.330 ± 0.400\n",
      "Tyk_6      1.280 ± 0.400\n",
      "Tyk_7      -1.440 ± 0.400\n",
      "Tyk_8      1.790 ± 0.400\n",
      "Tyk_9      -0.020 ± 0.400\n",
      "Tyk_10     2.120 ± 0.400\n",
      "Tyk_11     -1.740 ± 0.400\n",
      "Tyk_12     0.540 ± 0.400\n",
      "Tyk_13     -0.160 ± 0.400\n",
      "Tyk_14     -2.160 ± 0.400\n",
      "Tyk_15     -0.240 ± 0.400\n",
      "Tyk_16     -0.990 ± 0.400\n"
     ]
    }
   ],
   "source": [
    "dG_file = '../tyk2_ds_dGexp_abs.csv'\n",
    "pG.write_free_energies(exp_list)"
   ]
  },
  {
   "cell_type": "markdown",
   "metadata": {},
   "source": [
    "\n",
    "### Typical plots\n",
    "Below a bar plot and scatter plot template for comparing experimental and computed free energy values"
   ]
  },
  {
   "cell_type": "code",
   "execution_count": 36,
   "metadata": {},
   "outputs": [
    {
     "name": "stdout",
     "output_type": "stream",
     "text": [
      "['Tyk_1' 'Tyk_10' 'Tyk_11' 'Tyk_12' 'Tyk_13' 'Tyk_14' 'Tyk_15' 'Tyk_16'\n",
      " 'Tyk_2' 'Tyk_3' 'Tyk_4' 'Tyk_5' 'Tyk_6' 'Tyk_7' 'Tyk_8' 'Tyk_9']\n"
     ]
    },
    {
     "data": {
      "image/png": "[encoded data removed]",
      "text/plain": [
       "<Figure size 576x432 with 1 Axes>"
      ]
     },
     "metadata": {
      "needs_background": "light"
     },
     "output_type": "display_data"
    }
   ],
   "source": [
    "plotter = n_plot.FreeEnergyPlotter(exp_list, computed_relative_DDGs)\n",
    "ax,fig = plotter.plot_bar_plot(legend=('experimental', 'computed'))"
   ]
  },
  {
   "cell_type": "code",
   "execution_count": 37,
   "metadata": {},
   "outputs": [
    {
     "data": {
      "image/png": "[encoded data removed]",
      "text/plain": [
       "<Figure size 432x288 with 1 Axes>"
      ]
     },
     "metadata": {
      "needs_background": "light"
     },
     "output_type": "display_data"
    }
   ],
   "source": [
    "plotter.plot_scatter_plot() "
   ]
  },
  {
   "cell_type": "markdown",
   "metadata": {},
   "source": [
    "\n",
    "### Error analysis on typical statistical measures: R_mean, MUE and Kendall tau_mean\n",
    "Below are examples of how to re-sample from the data in order to obtain error bars on correlation coefficients, \n",
    "mean unsigned errors and Kendall tau. Returned are confidence intervals of 65% and the median of the distribution.\n",
    " However, standard deviations and mean can also \n",
    "be returned, though less likely to give good information as these distributions are often heavily skewed and not \n",
    "normally distributed. "
   ]
  },
  {
   "cell_type": "code",
   "execution_count": 39,
   "metadata": {},
   "outputs": [
    {
     "name": "stdout",
     "output_type": "stream",
     "text": [
      "R confidence is: 0.78 < 0.80 < 0.81\n",
      "Mue confidence is: 0.61 < 0.64 < 0.66\n",
      "tau confidence is: 0.60 < 0.63 < 0.65\n"
     ]
    }
   ],
   "source": [
    "stats = n_stats.freeEnergyStats()\n",
    "stats.generate_statistics(computed_relative_DDGs,exp_list,repeats=10000)\n",
    "r_confidence = stats.R_confidence\n",
    "tau_confidence = stats.tau_confidence\n",
    "mue_confidence = stats.mue_confidence\n",
    "print (\"R confidence is: %.2f < %.2f < %.2f\" %(r_confidence[1], r_confidence[0], r_confidence[2]))\n",
    "print (\"Mue confidence is: %.2f < %.2f < %.2f\" %(mue_confidence[1], mue_confidence[0], mue_confidence[2]))\n",
    "print (\"tau confidence is: %.2f < %.2f < %.2f\" %(tau_confidence[1], tau_confidence[0], tau_confidence[2]))"
   ]
  },
  {
   "cell_type": "code",
   "execution_count": null,
   "metadata": {},
   "outputs": [],
   "source": []
  }
 ],
 "metadata": {
  "kernelspec": {
   "display_name": "Python 3",
   "language": "python",
   "name": "python3"
  },
  "language_info": {
   "codemirror_mode": {
    "name": "ipython",
    "version": 3
   },
   "file_extension": ".py",
   "mimetype": "text/x-python",
   "name": "python",
   "nbconvert_exporter": "python",
   "pygments_lexer": "ipython3",
   "version": "3.7.3"
  }
 },
 "nbformat": 4,
 "nbformat_minor": 2
}
