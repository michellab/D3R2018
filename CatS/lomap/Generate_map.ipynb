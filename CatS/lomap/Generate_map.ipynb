{
 "cells": [
  {
   "cell_type": "code",
   "execution_count": 1,
   "metadata": {},
   "outputs": [],
   "source": [
    "from rdkit import Chem\n",
    "import glob"
   ]
  },
  {
   "cell_type": "code",
   "execution_count": 12,
   "metadata": {},
   "outputs": [],
   "source": [
    "import lomap\n",
    "import networkx"
   ]
  },
  {
   "cell_type": "code",
   "execution_count": 14,
   "metadata": {},
   "outputs": [],
   "source": [
    "import networkx as nx"
   ]
  },
  {
   "cell_type": "code",
   "execution_count": null,
   "metadata": {},
   "outputs": [],
   "source": [
    "nx.dr"
   ]
  },
  {
   "cell_type": "code",
   "execution_count": 3,
   "metadata": {},
   "outputs": [
    {
     "ename": "AttributeError",
     "evalue": "module 'lomap' has no attribute '__version__'",
     "output_type": "error",
     "traceback": [
      "\u001b[0;31m---------------------------------------------------------------------------\u001b[0m",
      "\u001b[0;31mAttributeError\u001b[0m                            Traceback (most recent call last)",
      "\u001b[0;32m<ipython-input-3-4a4cab6d1fd4>\u001b[0m in \u001b[0;36m<module>\u001b[0;34m()\u001b[0m\n\u001b[0;32m----> 1\u001b[0;31m \u001b[0mlomap\u001b[0m\u001b[0;34m.\u001b[0m\u001b[0m__version__\u001b[0m\u001b[0;34m\u001b[0m\u001b[0m\n\u001b[0m",
      "\u001b[0;31mAttributeError\u001b[0m: module 'lomap' has no attribute '__version__'"
     ]
    }
   ],
   "source": [
    "lomap.__version__"
   ]
  },
  {
   "cell_type": "code",
   "execution_count": 4,
   "metadata": {},
   "outputs": [
    {
     "name": "stderr",
     "output_type": "stream",
     "text": [
      "------------------------------\n",
      "ID 0\tCatS_122.mol2\n",
      "ID 1\tCatS_127.mol2\n",
      "ID 2\tCatS_132.mol2\n",
      "ID 3\tCatS_139.mol2\n",
      "ID 4\tCatS_30.mol2\n",
      "------------------------------\n",
      "Finish reading input files. 5 structures in total....skipped 0\n",
      "\n"
     ]
    }
   ],
   "source": [
    "db_mol = lomap.DBMolecules('../CatS_initial_packet_to_participants/free_energies/subset/',verbose='pedantic')"
   ]
  },
  {
   "cell_type": "code",
   "execution_count": 5,
   "metadata": {},
   "outputs": [
    {
     "name": "stderr",
     "output_type": "stream",
     "text": [
      "\n",
      "Matrix scoring in progress....\n",
      "\n",
      "--------------------------------------------------\n",
      "MCS molecules: CatS_122.mol2 - CatS_127.mol2\n",
      "MCS molecules: CatS_122.mol2 - CatS_127.mol2\n",
      "MCS molecules: CatS_122.mol2 - CatS_127.mol2 the strict scr is 0.301194211912202\n",
      "--------------------------------------------------\n",
      "MCS molecules: CatS_122.mol2 - CatS_132.mol2\n",
      "MCS molecules: CatS_122.mol2 - CatS_132.mol2\n",
      "MCS molecules: CatS_122.mol2 - CatS_132.mol2 the strict scr is 0.24659696394160643\n",
      "--------------------------------------------------\n",
      "MCS molecules: CatS_122.mol2 - CatS_139.mol2\n",
      "MCS molecules: CatS_122.mol2 - CatS_139.mol2\n",
      "MCS molecules: CatS_122.mol2 - CatS_139.mol2 the strict scr is 0.40656965974059905\n",
      "--------------------------------------------------\n",
      "MCS molecules: CatS_122.mol2 - CatS_30.mol2\n",
      "MCS molecules: CatS_122.mol2 - CatS_30.mol2\n",
      "MCS molecules: CatS_122.mol2 - CatS_30.mol2 the strict scr is 0.2465969639416064\n",
      "--------------------------------------------------\n",
      "MCS molecules: CatS_127.mol2 - CatS_132.mol2\n",
      "MCS molecules: CatS_127.mol2 - CatS_132.mol2\n",
      "MCS molecules: CatS_127.mol2 - CatS_132.mol2 the strict scr is 0.4493289641172215\n",
      "--------------------------------------------------\n",
      "MCS molecules: CatS_127.mol2 - CatS_139.mol2\n",
      "MCS molecules: CatS_127.mol2 - CatS_139.mol2\n",
      "Timeout reached to find the MCS between the molecules\n",
      "MCS molecules: CatS_127.mol2 - CatS_139.mol2 the strict scr is 0.6065306597126334\n",
      "--------------------------------------------------\n",
      "MCS molecules: CatS_127.mol2 - CatS_30.mol2\n",
      "MCS molecules: CatS_127.mol2 - CatS_30.mol2\n",
      "MCS molecules: CatS_127.mol2 - CatS_30.mol2 the strict scr is 0.36787944117144233\n",
      "--------------------------------------------------\n",
      "MCS molecules: CatS_132.mol2 - CatS_139.mol2\n",
      "MCS molecules: CatS_132.mol2 - CatS_139.mol2\n",
      "Timeout reached to find the MCS between the molecules\n",
      "MCS molecules: CatS_132.mol2 - CatS_139.mol2 the strict scr is 0.49658530379140947\n",
      "--------------------------------------------------\n",
      "MCS molecules: CatS_132.mol2 - CatS_30.mol2\n",
      "MCS molecules: CatS_132.mol2 - CatS_30.mol2\n",
      "MCS molecules: CatS_132.mol2 - CatS_30.mol2 the strict scr is 0.301194211912202\n",
      "--------------------------------------------------\n",
      "MCS molecules: CatS_139.mol2 - CatS_30.mol2\n",
      "MCS molecules: CatS_139.mol2 - CatS_30.mol2\n",
      "MCS molecules: CatS_139.mol2 - CatS_30.mol2 the strict scr is 0.6065306597126334\n"
     ]
    }
   ],
   "source": [
    "strict, loose = db_mol.build_matrices()"
   ]
  },
  {
   "cell_type": "code",
   "execution_count": 6,
   "metadata": {},
   "outputs": [
    {
     "name": "stderr",
     "output_type": "stream",
     "text": [
      "\n",
      "Generating graph in progress....\n"
     ]
    }
   ],
   "source": [
    "nx_graph = db_mol.build_graph() "
   ]
  },
  {
   "cell_type": "code",
   "execution_count": 10,
   "metadata": {},
   "outputs": [
    {
     "name": "stderr",
     "output_type": "stream",
     "text": [
      "STREAM b'IHDR' 16 13\n",
      "STREAM b'bKGD' 41 6\n",
      "b'bKGD' 41 6 (unknown)\n",
      "STREAM b'IDAT' 59 8192\n"
     ]
    }
   ],
   "source": [
    "MC = lomap.MCS.getMapping(db_mol[0].getMolecule(), db_mol[1].getMolecule(), hydrogens=False, fname='mcs.png')"
   ]
  },
  {
   "cell_type": "code",
   "execution_count": 20,
   "metadata": {},
   "outputs": [
    {
     "data": {
      "image/png": "[encoded data removed]",
      "text/plain": [
       "<Figure size 432x288 with 1 Axes>"
      ]
     },
     "metadata": {},
     "output_type": "display_data"
    }
   ],
   "source": [
    "nx.draw(nx_graph)"
   ]
  },
  {
   "cell_type": "code",
   "execution_count": 7,
   "metadata": {},
   "outputs": [
    {
     "data": {
      "text/plain": [
       "5"
      ]
     },
     "execution_count": 7,
     "metadata": {},
     "output_type": "execute_result"
    }
   ],
   "source": [
    "db_mol.Graph.size()"
   ]
  },
  {
   "cell_type": "code",
   "execution_count": null,
   "metadata": {},
   "outputs": [],
   "source": []
  }
 ],
 "metadata": {
  "kernelspec": {
   "display_name": "Python 3",
   "language": "python",
   "name": "python3"
  },
  "language_info": {
   "codemirror_mode": {
    "name": "ipython",
    "version": 3
   },
   "file_extension": ".py",
   "mimetype": "text/x-python",
   "name": "python",
   "nbconvert_exporter": "python",
   "pygments_lexer": "ipython3",
   "version": "3.5.5"
  }
 },
 "nbformat": 4,
 "nbformat_minor": 2
}
