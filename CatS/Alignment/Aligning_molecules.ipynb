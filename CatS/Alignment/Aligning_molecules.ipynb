{
 "cells": [
  {
   "cell_type": "code",
   "execution_count": 1,
   "metadata": {},
   "outputs": [
    {
     "name": "stdout",
     "output_type": "stream",
     "text": [
      "Populating the interactive namespace from numpy and matplotlib\n"
     ]
    }
   ],
   "source": [
    "%pylab inline\n",
    "import BioSimSpace as BSS\n"
   ]
  },
  {
   "cell_type": "code",
   "execution_count": 2,
   "metadata": {},
   "outputs": [],
   "source": [
    "import glob"
   ]
  },
  {
   "cell_type": "code",
   "execution_count": 3,
   "metadata": {},
   "outputs": [],
   "source": [
    "gc_3_ligs = glob.glob('../CatS_prep/GC3_data/ligands/*.pdb')"
   ]
  },
  {
   "cell_type": "code",
   "execution_count": 4,
   "metadata": {},
   "outputs": [],
   "source": [
    "gc_4_ligs = glob.glob('../CatS_prep/Docked_ligands/*.pdb')"
   ]
  },
  {
   "cell_type": "code",
   "execution_count": 12,
   "metadata": {},
   "outputs": [
    {
     "name": "stdout",
     "output_type": "stream",
     "text": [
      "33\n",
      "Current best match is: ../CatS_prep/Docked_ligands/CatS_13.pdb,../CatS_prep/GC3_data/ligands/mekm.pdb\n",
      "40\n",
      "Current best match is: ../CatS_prep/Docked_ligands/CatS_13.pdb,../CatS_prep/GC3_data/ligands/tuhd.pdb\n",
      "29\n",
      "Current best match is: ../CatS_prep/Docked_ligands/CatS_132.pdb,../CatS_prep/GC3_data/ligands/mekm.pdb\n",
      "67\n",
      "Current best match is: ../CatS_prep/Docked_ligands/CatS_132.pdb,../CatS_prep/GC3_data/ligands/tuhd.pdb\n"
     ]
    }
   ],
   "source": [
    "best_match_list = []\n",
    "match_pair_list = []\n",
    "for gc4 in gc_4_ligs[:2]:\n",
    "    best_match = 0\n",
    "    match_pair = []\n",
    "    gc4_mol = BSS.IO.readMolecules(gc4)\n",
    "    for gc3 in gc_3_ligs[:2]:\n",
    "        gc3_mol = BSS.IO.readMolecules(gc3)\n",
    "        mapping = BSS.Align.matchAtoms(gc3_mol.getMolecules()[0], gc4_mol.getMolecules()[0], verbose=True)\n",
    "        curr_map = len(mapping)\n",
    "        print(curr_map)\n",
    "        if best_match < curr_map:\n",
    "            best_match = curr_map\n",
    "            match_pair = [gc4,gc3]\n",
    "            print (\"Current best match is: %s,%s\" %(gc4,gc3))\n",
    "    best_match_list.append(best_match)\n",
    "    match_pair_list.append(match_pair)"
   ]
  },
  {
   "cell_type": "code",
   "execution_count": 18,
   "metadata": {},
   "outputs": [],
   "source": [
    "f = open('test.dat', 'w')\n",
    "for i in range(len(best_match_list)):\n",
    "    f.write('%d, %s, %s\\n' %(best_match_list[i],match_pair_list[i][0], match_pair_list[i][1]))\n",
    "f.close()"
   ]
  },
  {
   "cell_type": "code",
   "execution_count": 6,
   "metadata": {},
   "outputs": [],
   "source": [
    "gc4_mol = BSS.IO.readMolecules(gc_4_ligs[0])\n",
    "gc3_mol = BSS.IO.readMolecules(gc_3_ligs[0])"
   ]
  },
  {
   "cell_type": "code",
   "execution_count": 7,
   "metadata": {},
   "outputs": [],
   "source": [
    "mapping = BSS.Align.matchAtoms(gc3_mol.getMolecules()[0], gc4_mol.getMolecules()[0], verbose=True)"
   ]
  },
  {
   "cell_type": "code",
   "execution_count": 9,
   "metadata": {},
   "outputs": [
    {
     "data": {
      "text/plain": [
       "33"
      ]
     },
     "execution_count": 9,
     "metadata": {},
     "output_type": "execute_result"
    }
   ],
   "source": [
    "len(mapping)"
   ]
  },
  {
   "cell_type": "code",
   "execution_count": 3,
   "metadata": {},
   "outputs": [],
   "source": [
    "#the binding mode I want to mimic with the new molecule\n",
    "GC3_5 = BSS.IO.readMolecules('CatS_5.pdb')\n",
    "#the molecule that currently is planar and i only converted it from the smiles string to a pdb file\n",
    "CatS_4 = BSS.IO.readMolecules('CatS_4_docked.pdb')\n",
    "mapping = BSS.Align.matchAtoms(CatS_4.getMolecules()[0], GC3_5.getMolecules()[0])\n",
    "CatS_4_align = BSS.Align.rmsdAlign(CatS_4.getMolecules()[0],GC3_5.getMolecules()[0], mapping=mapping)\n",
    "BSS.IO.saveMolecules('CatS_4_aligned', CatS_4_align, 'pdb')"
   ]
  },
  {
   "cell_type": "code",
   "execution_count": 4,
   "metadata": {},
   "outputs": [
    {
     "data": {
      "text/plain": [
       "'2018.2.0'"
      ]
     },
     "execution_count": 4,
     "metadata": {},
     "output_type": "execute_result"
    }
   ],
   "source": [
    "Sire.__version__"
   ]
  },
  {
   "cell_type": "code",
   "execution_count": null,
   "metadata": {},
   "outputs": [],
   "source": []
  }
 ],
 "metadata": {
  "kernelspec": {
   "display_name": "Python 3",
   "language": "python",
   "name": "python3"
  },
  "language_info": {
   "codemirror_mode": {
    "name": "ipython",
    "version": 3
   },
   "file_extension": ".py",
   "mimetype": "text/x-python",
   "name": "python",
   "nbconvert_exporter": "python",
   "pygments_lexer": "ipython3",
   "version": "3.6.5"
  }
 },
 "nbformat": 4,
 "nbformat_minor": 2
}
