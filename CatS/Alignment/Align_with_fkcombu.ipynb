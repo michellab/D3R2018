{
 "cells": [
  {
   "cell_type": "code",
   "execution_count": 1,
   "metadata": {},
   "outputs": [],
   "source": [
    "import os\n",
    "import glob"
   ]
  },
  {
   "cell_type": "code",
   "execution_count": 3,
   "metadata": {},
   "outputs": [],
   "source": [
    "lines = glob.glob(\"../CatS_prep/ligands/*.pdb\")"
   ]
  },
  {
   "cell_type": "code",
   "execution_count": 4,
   "metadata": {},
   "outputs": [],
   "source": [
    "ref = '../CatS_prep/GC3_data/ligands/mekm.pdb'\n",
    "protein = '../BSS/protein/protein.pdb'"
   ]
  },
  {
   "cell_type": "code",
   "execution_count": 5,
   "metadata": {},
   "outputs": [
    {
     "data": {
      "text/plain": [
       "'/home/ppxasjsm/Projects/git/D3R2018/CatS/Alignment'"
      ]
     },
     "execution_count": 5,
     "metadata": {},
     "output_type": "execute_result"
    }
   ],
   "source": [
    "pwd"
   ]
  },
  {
   "cell_type": "code",
   "execution_count": 6,
   "metadata": {
    "scrolled": true
   },
   "outputs": [
    {
     "data": {
      "text/plain": [
       "['../CatS_prep/ligands/CatS_153_aligned_with_H.pdb',\n",
       " '../CatS_prep/ligands/CatS_29_aligned_with_H.pdb',\n",
       " '../CatS_prep/ligands/CatS_184_aligned_with_H.pdb',\n",
       " '../CatS_prep/ligands/CatS_186_aligned_with_H.pdb',\n",
       " '../CatS_prep/ligands/CatS_127_aligned_with_H.pdb',\n",
       " '../CatS_prep/ligands/CatS_141_aligned_with_H.pdb',\n",
       " '../CatS_prep/ligands/CatS_165_aligned_with_H.pdb',\n",
       " '../CatS_prep/ligands/CatS_176_aligned_with_H.pdb',\n",
       " '../CatS_prep/ligands/CatS_79_aligned_with_H.pdb',\n",
       " '../CatS_prep/ligands/CatS_130_aligned_with_H.pdb',\n",
       " '../CatS_prep/ligands/CatS_195_aligned_with_H.pdb',\n",
       " '../CatS_prep/ligands/CatS_30_aligned_with_H.pdb',\n",
       " '../CatS_prep/ligands/CatS_191_aligned_with_H.pdb',\n",
       " '../CatS_prep/ligands/CatS_185_aligned_with_H.pdb',\n",
       " '../CatS_prep/ligands/CatS_131_aligned_with_H.pdb',\n",
       " '../CatS_prep/ligands/CatS_132_aligned_with_H.pdb',\n",
       " '../CatS_prep/ligands/CatS_167_aligned_with_H.pdb',\n",
       " '../CatS_prep/ligands/CatS_4_aligned_with_H.pdb',\n",
       " '../CatS_prep/ligands/CatS_157_aligned_with_H.pdb',\n",
       " '../CatS_prep/ligands/CatS_253_aligned_with_H.pdb',\n",
       " '../CatS_prep/ligands/CatS_76_aligned_with_H.pdb',\n",
       " '../CatS_prep/ligands/CatS_122_aligned_with_H.pdb',\n",
       " '../CatS_prep/ligands/CatS_139_aligned_with_H.pdb',\n",
       " '../CatS_prep/ligands/CatS_255_aligned_with_H.pdb',\n",
       " '../CatS_prep/ligands/CatS_180_aligned_with_H.pdb',\n",
       " '../CatS_prep/ligands/CatS_174_aligned_with_H.pdb',\n",
       " '../CatS_prep/ligands/CatS_142_aligned_with_H.pdb',\n",
       " '../CatS_prep/ligands/CatS_9_aligned_with_H.pdb',\n",
       " '../CatS_prep/ligands/CatS_162_aligned_with_H.pdb',\n",
       " '../CatS_prep/ligands/CatS_252_aligned_with_H.pdb',\n",
       " '../CatS_prep/ligands/CatS_155_aligned_with_H.pdb',\n",
       " '../CatS_prep/ligands/CatS_177_aligned_with_H.pdb',\n",
       " '../CatS_prep/ligands/CatS_52_aligned_with_H.pdb',\n",
       " '../CatS_prep/ligands/CatS_172_aligned_with_H.pdb',\n",
       " '../CatS_prep/ligands/CatS_84_aligned_with_H.pdb',\n",
       " '../CatS_prep/ligands/CatS_144_aligned_with_H.pdb',\n",
       " '../CatS_prep/ligands/CatS_178_aligned_with_H.pdb',\n",
       " '../CatS_prep/ligands/CatS_160_aligned_with_H.pdb',\n",
       " '../CatS_prep/ligands/CatS_181_aligned_with_H.pdb']"
      ]
     },
     "execution_count": 6,
     "metadata": {},
     "output_type": "execute_result"
    }
   ],
   "source": [
    "lines"
   ]
  },
  {
   "cell_type": "code",
   "execution_count": 7,
   "metadata": {},
   "outputs": [
    {
     "name": "stdout",
     "output_type": "stream",
     "text": [
      "CatS_153_aligned_with_H.pdb\n",
      "CatS_29_aligned_with_H.pdb\n",
      "CatS_184_aligned_with_H.pdb\n",
      "CatS_186_aligned_with_H.pdb\n",
      "CatS_127_aligned_with_H.pdb\n",
      "CatS_141_aligned_with_H.pdb\n",
      "CatS_165_aligned_with_H.pdb\n",
      "CatS_176_aligned_with_H.pdb\n",
      "CatS_79_aligned_with_H.pdb\n",
      "CatS_130_aligned_with_H.pdb\n",
      "CatS_195_aligned_with_H.pdb\n",
      "CatS_30_aligned_with_H.pdb\n",
      "CatS_191_aligned_with_H.pdb\n",
      "CatS_185_aligned_with_H.pdb\n",
      "CatS_131_aligned_with_H.pdb\n",
      "CatS_132_aligned_with_H.pdb\n",
      "CatS_167_aligned_with_H.pdb\n",
      "CatS_4_aligned_with_H.pdb\n",
      "CatS_157_aligned_with_H.pdb\n",
      "CatS_253_aligned_with_H.pdb\n",
      "CatS_76_aligned_with_H.pdb\n",
      "CatS_122_aligned_with_H.pdb\n",
      "CatS_139_aligned_with_H.pdb\n",
      "CatS_255_aligned_with_H.pdb\n",
      "CatS_180_aligned_with_H.pdb\n",
      "CatS_174_aligned_with_H.pdb\n",
      "CatS_142_aligned_with_H.pdb\n",
      "CatS_9_aligned_with_H.pdb\n",
      "CatS_162_aligned_with_H.pdb\n",
      "CatS_252_aligned_with_H.pdb\n",
      "CatS_155_aligned_with_H.pdb\n",
      "CatS_177_aligned_with_H.pdb\n",
      "CatS_52_aligned_with_H.pdb\n",
      "CatS_172_aligned_with_H.pdb\n",
      "CatS_84_aligned_with_H.pdb\n",
      "CatS_144_aligned_with_H.pdb\n",
      "CatS_178_aligned_with_H.pdb\n",
      "CatS_160_aligned_with_H.pdb\n",
      "CatS_181_aligned_with_H.pdb\n"
     ]
    }
   ],
   "source": [
    "for line in lines:\n",
    "    a = line.split('/')[-1]\n",
    "    print (a)\n",
    "    #out_name = a[1].split('/')[-1].split('.pdb')[0]+'_aligned.pdb'\n",
    "    #print (out_name)\n",
    "    command = '/home/ppxasjsm/source_builds/kcombu/fkcombu -T %s -R %s -P %s -opdbT %s' %(line,ref,protein,a)\n",
    "    os.system(command)"
   ]
  },
  {
   "cell_type": "code",
   "execution_count": 49,
   "metadata": {},
   "outputs": [],
   "source": [
    "aligned = glob.glob('*aligned.pdb')"
   ]
  },
  {
   "cell_type": "code",
   "execution_count": 50,
   "metadata": {},
   "outputs": [
    {
     "data": {
      "text/plain": [
       "['CatS_176_aligned.pdb',\n",
       " 'CatS_132_aligned.pdb',\n",
       " 'CatS_155_aligned.pdb',\n",
       " 'CatS_165_aligned.pdb',\n",
       " 'CatS_174_aligned.pdb',\n",
       " 'CatS_177_aligned.pdb',\n",
       " 'CatS_255_aligned.pdb',\n",
       " 'CatS_180_aligned.pdb',\n",
       " 'CatS_172_aligned.pdb',\n",
       " 'CatS_178_aligned.pdb',\n",
       " 'CatS_139_aligned.pdb',\n",
       " 'CatS_162_aligned.pdb',\n",
       " 'CatS_157_aligned.pdb',\n",
       " 'CatS_160_aligned.pdb',\n",
       " 'CatS_144_aligned.pdb',\n",
       " 'CatS_252_aligned.pdb',\n",
       " 'CatS_185_aligned.pdb',\n",
       " 'CatS_142_aligned.pdb',\n",
       " 'CatS_153_aligned.pdb',\n",
       " 'CatS_195_aligned.pdb',\n",
       " 'CatS_253_aligned.pdb',\n",
       " 'CatS_186_aligned.pdb',\n",
       " 'CatS_130_aligned.pdb',\n",
       " 'CatS_4_aligned.pdb',\n",
       " 'CatS_184_aligned.pdb',\n",
       " 'CatS_167_aligned.pdb']"
      ]
     },
     "execution_count": 50,
     "metadata": {},
     "output_type": "execute_result"
    }
   ],
   "source": [
    "aligned"
   ]
  },
  {
   "cell_type": "code",
   "execution_count": 39,
   "metadata": {},
   "outputs": [],
   "source": [
    "f = open('../CatS_initial_packet_to_participants/free_energies/full_list.dat', 'r')\n",
    "full_list = f.readlines()\n",
    "f.close()"
   ]
  },
  {
   "cell_type": "code",
   "execution_count": 40,
   "metadata": {},
   "outputs": [
    {
     "data": {
      "text/plain": [
       "['CatS_122_aligned.pdb\\n',\n",
       " 'CatS_127_aligned.pdb\\n',\n",
       " 'CatS_130_aligned.pdb\\n',\n",
       " 'CatS_131_aligned.pdb\\n',\n",
       " 'CatS_132_aligned.pdb\\n',\n",
       " 'CatS_139_aligned.pdb\\n',\n",
       " 'CatS_141_aligned.pdb\\n',\n",
       " 'CatS_142_aligned.pdb\\n',\n",
       " 'CatS_144_aligned.pdb\\n',\n",
       " 'CatS_153_aligned.pdb\\n',\n",
       " 'CatS_155_aligned.pdb\\n',\n",
       " 'CatS_157_aligned.pdb\\n',\n",
       " 'CatS_160_aligned.pdb\\n',\n",
       " 'CatS_162_aligned.pdb\\n',\n",
       " 'CatS_165_aligned.pdb\\n',\n",
       " 'CatS_167_aligned.pdb\\n',\n",
       " 'CatS_172_aligned.pdb\\n',\n",
       " 'CatS_174_aligned.pdb\\n',\n",
       " 'CatS_176_aligned.pdb\\n',\n",
       " 'CatS_177_aligned.pdb\\n',\n",
       " 'CatS_178_aligned.pdb\\n',\n",
       " 'CatS_180_aligned.pdb\\n',\n",
       " 'CatS_181_aligned.pdb\\n',\n",
       " 'CatS_184_aligned.pdb\\n',\n",
       " 'CatS_185_aligned.pdb\\n',\n",
       " 'CatS_186_aligned.pdb\\n',\n",
       " 'CatS_191_aligned.pdb\\n',\n",
       " 'CatS_195_aligned.pdb\\n',\n",
       " 'CatS_252_aligned.pdb\\n',\n",
       " 'CatS_253_aligned.pdb\\n',\n",
       " 'CatS_255_aligned.pdb\\n',\n",
       " 'CatS_29_aligned.pdb\\n',\n",
       " 'CatS_30_aligned.pdb\\n',\n",
       " 'CatS_4_aligned.pdb\\n',\n",
       " 'CatS_52_aligned.pdb\\n',\n",
       " 'CatS_76_aligned.pdb\\n',\n",
       " 'CatS_79_aligned.pdb\\n',\n",
       " 'CatS_84_aligned.pdb\\n',\n",
       " 'CatS_9_aligned.pdb\\n']"
      ]
     },
     "execution_count": 40,
     "metadata": {},
     "output_type": "execute_result"
    }
   ],
   "source": [
    "full_list"
   ]
  },
  {
   "cell_type": "code",
   "execution_count": 51,
   "metadata": {},
   "outputs": [
    {
     "name": "stdout",
     "output_type": "stream",
     "text": [
      "['CatS_130_aligned.pdb', 'CatS_132_aligned.pdb', 'CatS_139_aligned.pdb', 'CatS_142_aligned.pdb', 'CatS_144_aligned.pdb', 'CatS_153_aligned.pdb', 'CatS_155_aligned.pdb', 'CatS_157_aligned.pdb', 'CatS_160_aligned.pdb', 'CatS_162_aligned.pdb', 'CatS_165_aligned.pdb', 'CatS_167_aligned.pdb', 'CatS_172_aligned.pdb', 'CatS_174_aligned.pdb', 'CatS_176_aligned.pdb', 'CatS_177_aligned.pdb', 'CatS_178_aligned.pdb', 'CatS_180_aligned.pdb', 'CatS_184_aligned.pdb', 'CatS_185_aligned.pdb', 'CatS_186_aligned.pdb', 'CatS_195_aligned.pdb', 'CatS_252_aligned.pdb', 'CatS_253_aligned.pdb', 'CatS_255_aligned.pdb', 'CatS_4_aligned.pdb']\n"
     ]
    }
   ],
   "source": [
    "aligned.sort()\n",
    "print(aligned)"
   ]
  },
  {
   "cell_type": "code",
   "execution_count": 43,
   "metadata": {},
   "outputs": [],
   "source": [
    "free_energy_list = []\n",
    "for f in full_list:\n",
    "    free_energy_list.append(f.strip())"
   ]
  },
  {
   "cell_type": "code",
   "execution_count": 45,
   "metadata": {},
   "outputs": [
    {
     "name": "stdout",
     "output_type": "stream",
     "text": [
      "['CatS_122_aligned.pdb', 'CatS_127_aligned.pdb', 'CatS_130_aligned.pdb', 'CatS_131_aligned.pdb', 'CatS_132_aligned.pdb', 'CatS_139_aligned.pdb', 'CatS_141_aligned.pdb', 'CatS_142_aligned.pdb', 'CatS_144_aligned.pdb', 'CatS_153_aligned.pdb', 'CatS_155_aligned.pdb', 'CatS_157_aligned.pdb', 'CatS_160_aligned.pdb', 'CatS_162_aligned.pdb', 'CatS_165_aligned.pdb', 'CatS_167_aligned.pdb', 'CatS_172_aligned.pdb', 'CatS_174_aligned.pdb', 'CatS_176_aligned.pdb', 'CatS_177_aligned.pdb', 'CatS_178_aligned.pdb', 'CatS_180_aligned.pdb', 'CatS_181_aligned.pdb', 'CatS_184_aligned.pdb', 'CatS_185_aligned.pdb', 'CatS_186_aligned.pdb', 'CatS_191_aligned.pdb', 'CatS_195_aligned.pdb', 'CatS_252_aligned.pdb', 'CatS_253_aligned.pdb', 'CatS_255_aligned.pdb', 'CatS_29_aligned.pdb', 'CatS_30_aligned.pdb', 'CatS_4_aligned.pdb', 'CatS_52_aligned.pdb', 'CatS_76_aligned.pdb', 'CatS_79_aligned.pdb', 'CatS_84_aligned.pdb', 'CatS_9_aligned.pdb']\n"
     ]
    }
   ],
   "source": [
    "free_energy_list.sort()\n",
    "print(free_energy_list)"
   ]
  },
  {
   "cell_type": "code",
   "execution_count": 52,
   "metadata": {},
   "outputs": [
    {
     "name": "stdout",
     "output_type": "stream",
     "text": [
      "CatS_130_aligned.pdb\n",
      "CatS_132_aligned.pdb\n",
      "CatS_139_aligned.pdb\n",
      "CatS_142_aligned.pdb\n",
      "CatS_144_aligned.pdb\n",
      "CatS_153_aligned.pdb\n",
      "CatS_155_aligned.pdb\n",
      "CatS_157_aligned.pdb\n",
      "CatS_160_aligned.pdb\n",
      "CatS_162_aligned.pdb\n",
      "CatS_165_aligned.pdb\n",
      "CatS_167_aligned.pdb\n",
      "CatS_172_aligned.pdb\n",
      "CatS_174_aligned.pdb\n",
      "CatS_176_aligned.pdb\n",
      "CatS_177_aligned.pdb\n",
      "CatS_178_aligned.pdb\n",
      "CatS_180_aligned.pdb\n",
      "CatS_184_aligned.pdb\n",
      "CatS_185_aligned.pdb\n",
      "CatS_186_aligned.pdb\n",
      "CatS_195_aligned.pdb\n",
      "CatS_252_aligned.pdb\n",
      "CatS_253_aligned.pdb\n",
      "CatS_255_aligned.pdb\n",
      "CatS_4_aligned.pdb\n"
     ]
    }
   ],
   "source": [
    "for f in aligned:\n",
    "    if f in free_energy_list:\n",
    "        print (f)\n",
    "    else:\n",
    "        print('This should not exist %s' %f)\n",
    "        #command = 'rm %s' %f\n",
    "        #os.system(command)"
   ]
  },
  {
   "cell_type": "code",
   "execution_count": null,
   "metadata": {},
   "outputs": [],
   "source": []
  }
 ],
 "metadata": {
  "kernelspec": {
   "display_name": "Python 3",
   "language": "python",
   "name": "python3"
  },
  "language_info": {
   "codemirror_mode": {
    "name": "ipython",
    "version": 3
   },
   "file_extension": ".py",
   "mimetype": "text/x-python",
   "name": "python",
   "nbconvert_exporter": "python",
   "pygments_lexer": "ipython3",
   "version": "3.6.5"
  }
 },
 "nbformat": 4,
 "nbformat_minor": 2
}
